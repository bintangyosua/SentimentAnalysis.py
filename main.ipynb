{
 "cells": [
  {
   "cell_type": "code",
   "execution_count": 383,
   "metadata": {},
   "outputs": [],
   "source": [
    "import tweepy\n",
    "import re\n",
    "from textblob import TextBlob"
   ]
  },
  {
   "cell_type": "code",
   "execution_count": 384,
   "metadata": {},
   "outputs": [],
   "source": [
    "api_key = \"IEl63B7tkAl7vFryzS8VQQMKG\"\n",
    "api_secret_key = \"Y0AsK3y0jE0b2Ii1EB7HyDf2K01f8XboBhUcJjiQf4STuK3tJR\"\n",
    "access_token = \"1049514569960284160-wFW64ZGiY4hATdJp2caa6cI4y8ZaNy\"\n",
    "access_token_secret = \"iUBkKgF8C9ANUFK14BKf1eQpNho5Uxp1oT7i6crBKnSYX\""
   ]
  },
  {
   "cell_type": "code",
   "execution_count": 385,
   "metadata": {},
   "outputs": [],
   "source": [
    "auth = tweepy.OAuthHandler(api_key, api_secret_key)\n",
    "auth.set_access_token(access_token, access_token_secret)\n",
    "api = tweepy.API(auth)"
   ]
  },
  {
   "cell_type": "code",
   "execution_count": 386,
   "metadata": {},
   "outputs": [],
   "source": [
    "hasilSearch = api.search_tweets(q=\"obama\", lang=\"en\", count=100) "
   ]
  },
  {
   "cell_type": "code",
   "execution_count": 387,
   "metadata": {},
   "outputs": [],
   "source": [
    "result = []\n",
    "\n",
    "for tweet in hasilSearch:\n",
    "    tweet_properties = {}\n",
    "    tweet_properties[\"created_at\"] = tweet.created_at\n",
    "    tweet_properties[\"username\"] = tweet.user.screen_name\n",
    "    tweet_properties[\"text\"] = tweet.text\n",
    "    cleaned_text = ' '.join(re.sub(\"(@[A-Za-z0-9]+)|([^0-9A-Za-z \\t])|(\\w+:\\/\\/\\S+)\", \" \", tweet.text).split())\n",
    "\n",
    "    analysis = TextBlob(cleaned_text)\n",
    "    analysis_sentpol = analysis.sentiment.polarity\n",
    "\n",
    "\n",
    "    if analysis_sentpol > 0.0:\n",
    "        tweet_properties[\"sentiment\"] = \"positive\"\n",
    "    elif analysis_sentpol < 0.0:\n",
    "        tweet_properties[\"sentiment\"] = \"negative\"\n",
    "    else:\n",
    "        tweet_properties[\"sentiment\"] = \"neutral\"\n",
    "    \n",
    "    if tweet.retweet_count > 0:\n",
    "        if tweet_properties not in result:\n",
    "            result.append(tweet_properties)\n",
    "        else:\n",
    "            result.append(tweet_properties)"
   ]
  },
  {
   "cell_type": "code",
   "execution_count": 388,
   "metadata": {},
   "outputs": [],
   "source": [
    "tweet_positive = [t for t in result if t[\"sentiment\"] == \"positive\"]\n",
    "tweet_neutral = [t for t in result if t[\"sentiment\"] == \"neutral\"]\n",
    "tweet_negative = [t for t in result if t[\"sentiment\"] == \"negative\"]"
   ]
  },
  {
   "cell_type": "code",
   "execution_count": 389,
   "metadata": {},
   "outputs": [
    {
     "name": "stdout",
     "output_type": "stream",
     "text": [
      "Sentiments\n",
      "Positive:  28 (35.8974358974359%)\n",
      "Neutral:  28 (35.8974358974359%)\n",
      "Negative:  22 (28.205128205128204%)\n"
     ]
    }
   ],
   "source": [
    "print(\"Sentiments\")\n",
    "print(\"Positive: \", len(tweet_positive), \"({}%)\".format(100*len(tweet_positive)/len(result)))\n",
    "print(\"Neutral: \", len(tweet_neutral), \"({}%)\".format(100*len(tweet_neutral)/len(result)))\n",
    "print(\"Negative: \", len(tweet_negative), \"({}%)\".format(100*len(tweet_negative)/len(result)))"
   ]
  }
 ],
 "metadata": {
  "kernelspec": {
   "display_name": "Python 3",
   "language": "python",
   "name": "python3"
  },
  "language_info": {
   "codemirror_mode": {
    "name": "ipython",
    "version": 3
   },
   "file_extension": ".py",
   "mimetype": "text/x-python",
   "name": "python",
   "nbconvert_exporter": "python",
   "pygments_lexer": "ipython3",
   "version": "3.11.2"
  },
  "orig_nbformat": 4
 },
 "nbformat": 4,
 "nbformat_minor": 2
}
